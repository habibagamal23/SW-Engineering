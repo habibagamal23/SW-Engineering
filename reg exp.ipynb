{
 "cells": [
  {
   "cell_type": "code",
   "execution_count": 1,
   "id": "7ea42376",
   "metadata": {},
   "outputs": [],
   "source": [
    "import re "
   ]
  },
  {
   "cell_type": "code",
   "execution_count": 6,
   "id": "2cf22507",
   "metadata": {},
   "outputs": [],
   "source": [
    "TEXT_TO_SEARCH = \"cat hat bat 987 cat 536 6765  gah n hsgfy yah .\" \n",
    "#cat bat hat \n",
    "#01026 010763 012637 011737T "
   ]
  },
  {
   "cell_type": "code",
   "execution_count": 7,
   "id": "64d089a4",
   "metadata": {},
   "outputs": [
    {
     "data": {
      "text/plain": [
       "13"
      ]
     },
     "execution_count": 7,
     "metadata": {},
     "output_type": "execute_result"
    }
   ],
   "source": [
    "string =\"habiab gamal gh\"\n",
    "string.find(\"gh\")"
   ]
  },
  {
   "cell_type": "code",
   "execution_count": 8,
   "id": "5fe1002c",
   "metadata": {},
   "outputs": [
    {
     "name": "stdout",
     "output_type": "stream",
     "text": [
      "<re.Match object; span=(0, 3), match='cat'>\n",
      "<re.Match object; span=(16, 19), match='cat'>\n"
     ]
    }
   ],
   "source": [
    "p = re.compile(r\"cat\") #3awz adwer 3la eh\n",
    "m= p.finditer(TEXT_TO_SEARCH ) # adwer fen\n",
    "print(len(m))\n",
    "for i in m:\n",
    "    print(i)\n",
    "    "
   ]
  },
  {
   "cell_type": "code",
   "execution_count": 10,
   "id": "97544543",
   "metadata": {},
   "outputs": [
    {
     "name": "stdout",
     "output_type": "stream",
     "text": [
      "<re.Match object; span=(0, 1), match='c'>\n",
      "<re.Match object; span=(1, 2), match='a'>\n",
      "<re.Match object; span=(2, 3), match='t'>\n",
      "<re.Match object; span=(3, 4), match=' '>\n",
      "<re.Match object; span=(4, 5), match='h'>\n",
      "<re.Match object; span=(5, 6), match='a'>\n",
      "<re.Match object; span=(6, 7), match='t'>\n",
      "<re.Match object; span=(7, 8), match=' '>\n",
      "<re.Match object; span=(8, 9), match='b'>\n",
      "<re.Match object; span=(9, 10), match='a'>\n",
      "<re.Match object; span=(10, 11), match='t'>\n",
      "<re.Match object; span=(11, 12), match=' '>\n",
      "<re.Match object; span=(12, 13), match='9'>\n",
      "<re.Match object; span=(13, 14), match='8'>\n",
      "<re.Match object; span=(14, 15), match='7'>\n",
      "<re.Match object; span=(15, 16), match=' '>\n",
      "<re.Match object; span=(16, 17), match='c'>\n",
      "<re.Match object; span=(17, 18), match='a'>\n",
      "<re.Match object; span=(18, 19), match='t'>\n"
     ]
    }
   ],
   "source": [
    "p = re.compile(\".\")\n",
    "m= p.finditer(TEXT_TO_SEARCH )\n",
    "\n",
    "for i in m:\n",
    "    print(i)"
   ]
  },
  {
   "cell_type": "code",
   "execution_count": 11,
   "id": "551f7670",
   "metadata": {},
   "outputs": [
    {
     "name": "stdout",
     "output_type": "stream",
     "text": [
      "<re.Match object; span=(12, 13), match='9'>\n",
      "<re.Match object; span=(13, 14), match='8'>\n",
      "<re.Match object; span=(14, 15), match='7'>\n"
     ]
    }
   ],
   "source": [
    "p = re.compile(r\"\\d\") # ay rakm  lw D captial yab2a ay haga gher  l arkam \n",
    "m= p.finditer(TEXT_TO_SEARCH )\n",
    "\n",
    "for i in m:\n",
    "    print(i)"
   ]
  },
  {
   "cell_type": "code",
   "execution_count": 12,
   "id": "1ea402d7",
   "metadata": {},
   "outputs": [],
   "source": [
    "p = re.compile(r\"\\d\\d\\d.\\d\\d\\d\") # ay 3 arkam warahm ay haga  [b7dded li 3yazah ]\n",
    "m= p.finditer(TEXT_TO_SEARCH )\n",
    "\n",
    "for i in m:\n",
    "    print(i)"
   ]
  },
  {
   "cell_type": "code",
   "execution_count": 13,
   "id": "a397d397",
   "metadata": {},
   "outputs": [],
   "source": [
    "p = re.compile(r\"[56]\") #y ama 5 aw 6\n",
    "m= p.finditer(TEXT_TO_SEARCH )\n",
    "\n",
    "for i in m:\n",
    "    print(i)"
   ]
  },
  {
   "cell_type": "code",
   "execution_count": 15,
   "id": "102d4a16",
   "metadata": {},
   "outputs": [],
   "source": [
    "p = re.compile(r\"010\\d\\d\\d\\d\")\n",
    "m= p.finditer(TEXT_TO_SEARCH )\n",
    "\n",
    "for i in m:\n",
    "    \n",
    "    print(i)"
   ]
  },
  {
   "cell_type": "code",
   "execution_count": 17,
   "id": "a8fe7253",
   "metadata": {},
   "outputs": [
    {
     "data": {
      "text/plain": [
       "'98'"
      ]
     },
     "execution_count": 17,
     "metadata": {},
     "output_type": "execute_result"
    }
   ],
   "source": [
    "TEXT_TO_SEARCH[12:14] "
   ]
  },
  {
   "cell_type": "code",
   "execution_count": 16,
   "id": "8976d3eb",
   "metadata": {},
   "outputs": [
    {
     "ename": "AttributeError",
     "evalue": "'callable_iterator' object has no attribute 'span'",
     "output_type": "error",
     "traceback": [
      "\u001b[0;31m---------------------------------------------------------------------------\u001b[0m",
      "\u001b[0;31mAttributeError\u001b[0m                            Traceback (most recent call last)",
      "Input \u001b[0;32mIn [16]\u001b[0m, in \u001b[0;36m<cell line: 7>\u001b[0;34m()\u001b[0m\n\u001b[1;32m      4\u001b[0m vod \u001b[38;5;241m=\u001b[39m[]\n\u001b[1;32m      7\u001b[0m \u001b[38;5;28;01mfor\u001b[39;00m i \u001b[38;5;129;01min\u001b[39;00m m:\n\u001b[0;32m----> 8\u001b[0m     vod\u001b[38;5;241m.\u001b[39mappend(s[\u001b[43mm\u001b[49m\u001b[38;5;241;43m.\u001b[39;49m\u001b[43mspan\u001b[49m[\u001b[38;5;241m0\u001b[39m]])\n",
      "\u001b[0;31mAttributeError\u001b[0m: 'callable_iterator' object has no attribute 'span'"
     ]
    }
   ],
   "source": [
    "s =\"habiba : 0106579830\" # a3ml l kol l arkm append f list \n",
    "p = re.compile(r\"010\\d\\d\\d\\d\")\n",
    "m= p.finditer(s)\n",
    "vod =[]\n",
    "\n",
    "\n",
    "for i in m:\n",
    "    vod=  vod.append(s[i.span()[0] : i.span()[1] ])\n",
    "    "
   ]
  },
  {
   "cell_type": "code",
   "execution_count": 18,
   "id": "a1283350",
   "metadata": {},
   "outputs": [
    {
     "name": "stdout",
     "output_type": "stream",
     "text": [
      "<re.Match object; span=(0, 3), match='cat'>\n",
      "<re.Match object; span=(4, 7), match='hat'>\n",
      "<re.Match object; span=(8, 11), match='bat'>\n",
      "<re.Match object; span=(16, 19), match='cat'>\n"
     ]
    }
   ],
   "source": [
    "p = re.compile(\".at\")\n",
    "m= p.finditer(TEXT_TO_SEARCH )\n",
    "\n",
    "for i in m:\n",
    "    \n",
    "    print(i)"
   ]
  },
  {
   "cell_type": "code",
   "execution_count": 19,
   "id": "0bc2d895",
   "metadata": {},
   "outputs": [
    {
     "name": "stdout",
     "output_type": "stream",
     "text": [
      "<re.Match object; span=(4, 7), match='hat'>\n",
      "<re.Match object; span=(8, 11), match='bat'>\n"
     ]
    }
   ],
   "source": [
    "p = re.compile(\"[^c]at\")\n",
    "m= p.finditer(TEXT_TO_SEARCH )\n",
    "\n",
    "for i in m:\n",
    "    \n",
    "    print(i)"
   ]
  },
  {
   "cell_type": "code",
   "execution_count": 20,
   "id": "f78fe5b8",
   "metadata": {},
   "outputs": [
    {
     "name": "stdout",
     "output_type": "stream",
     "text": [
      "<re.Match object; span=(12, 14), match='98'>\n"
     ]
    }
   ],
   "source": [
    "p = re.compile(\"\\d{2}\")\n",
    "m= p.finditer(TEXT_TO_SEARCH )\n",
    "\n",
    "for i in m:\n",
    "    \n",
    "    print(i)"
   ]
  },
  {
   "cell_type": "code",
   "execution_count": 21,
   "id": "b0655d30",
   "metadata": {},
   "outputs": [],
   "source": [
    "p = re.compile(\"\\d{2}[-.]\")\n",
    "m= p.finditer(TEXT_TO_SEARCH )\n",
    "\n",
    "for i in m:\n",
    "    \n",
    "    print(i)"
   ]
  },
  {
   "cell_type": "code",
   "execution_count": 22,
   "id": "35525625",
   "metadata": {},
   "outputs": [],
   "source": [
    "p = re.compile(\"habiab\\.com\") # 3ashn ageb . bdel mtgeb ay haga\n",
    "m= p.finditer(TEXT_TO_SEARCH )\n",
    "\n",
    "for i in m:\n",
    "    \n",
    "    print(i)"
   ]
  },
  {
   "cell_type": "code",
   "execution_count": 23,
   "id": "df7e6cdf",
   "metadata": {},
   "outputs": [],
   "source": [
    "p = re.compile(\"h..a\") #ay 7aga btbd2 b h w btntahy b a \n",
    "m= p.finditer(TEXT_TO_SEARCH )\n",
    "\n",
    "for i in m:\n",
    "    \n",
    "    print(i)"
   ]
  },
  {
   "cell_type": "code",
   "execution_count": 25,
   "id": "a98f8d49",
   "metadata": {},
   "outputs": [
    {
     "name": "stdout",
     "output_type": "stream",
     "text": [
      "<re.Match object; span=(4, 18), match='hat bat 987 ca'>\n"
     ]
    }
   ],
   "source": [
    "p = re.compile(\"h.+a\") #ay 7aga btbd2 b h w B3DAHA  a  AY 3ADD\n",
    "m= p.finditer(TEXT_TO_SEARCH )\n",
    "\n",
    "for i in m:\n",
    "    \n",
    "    print(i)"
   ]
  },
  {
   "cell_type": "code",
   "execution_count": 27,
   "id": "80c99e94",
   "metadata": {},
   "outputs": [
    {
     "name": "stdout",
     "output_type": "stream",
     "text": [
      "<re.Match object; span=(8, 19), match='bat 987 cat'>\n"
     ]
    }
   ],
   "source": [
    "p = re.compile(\"b.+\") #ay 7aga btbd2 b b w B3DAHA AY ay 3add\n",
    "m= p.finditer(TEXT_TO_SEARCH )\n",
    "\n",
    "for i in m:\n",
    "    \n",
    "    print(i)"
   ]
  },
  {
   "cell_type": "code",
   "execution_count": 28,
   "id": "826131e4",
   "metadata": {},
   "outputs": [],
   "source": [
    "p = re.compile(\"[$*+]\") #speacial char\n",
    "m= p.finditer(TEXT_TO_SEARCH )\n",
    "\n",
    "for i in m:\n",
    "    \n",
    "    print(i)"
   ]
  },
  {
   "cell_type": "code",
   "execution_count": null,
   "id": "425978ec",
   "metadata": {},
   "outputs": [],
   "source": []
  }
 ],
 "metadata": {
  "kernelspec": {
   "display_name": "Python 3 (ipykernel)",
   "language": "python",
   "name": "python3"
  },
  "language_info": {
   "codemirror_mode": {
    "name": "ipython",
    "version": 3
   },
   "file_extension": ".py",
   "mimetype": "text/x-python",
   "name": "python",
   "nbconvert_exporter": "python",
   "pygments_lexer": "ipython3",
   "version": "3.9.12"
  }
 },
 "nbformat": 4,
 "nbformat_minor": 5
}
