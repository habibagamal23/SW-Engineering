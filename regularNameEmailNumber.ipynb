{
 "cells": [
  {
   "cell_type": "code",
   "execution_count": 4,
   "id": "336f1a4f",
   "metadata": {},
   "outputs": [],
   "source": [
    "file1 = open(\"regular.txt\",\"r\")"
   ]
  },
  {
   "cell_type": "code",
   "execution_count": 16,
   "id": "b0cc9b6e",
   "metadata": {},
   "outputs": [],
   "source": [
    "lines =file1.readlines()"
   ]
  },
  {
   "cell_type": "code",
   "execution_count": 6,
   "id": "ceee0e71",
   "metadata": {},
   "outputs": [],
   "source": [
    "names = []\n",
    "number=[]\n",
    "email=[]"
   ]
  },
  {
   "cell_type": "code",
   "execution_count": 7,
   "id": "cb4295df",
   "metadata": {},
   "outputs": [],
   "source": [
    "import re "
   ]
  },
  {
   "cell_type": "code",
   "execution_count": 10,
   "id": "f543465e",
   "metadata": {
    "scrolled": true
   },
   "outputs": [],
   "source": [
    "p = re.compile(r\"01\\d\\d\\d\\d\\d\\d\\d\\d\\d\")"
   ]
  },
  {
   "cell_type": "code",
   "execution_count": 17,
   "id": "58a5698b",
   "metadata": {},
   "outputs": [
    {
     "name": "stdout",
     "output_type": "stream",
     "text": [
      "['biba  01065031918  habibagamal@gmail.com\\n', 'hour 01005248745 hourgamal@gmail.com\\n', 'marwa 01165031918 marwaHa@gmail.com\\n', 'haibaa  01065031918  habibagamal@gmail.com\\n', 'nour 01005248745 hourgamal@gmail.com\\n', 'ahmed 01165031918 marwaHa@gmail.com\\n', 'mhmoud  01065031918  habibagamal@gmail.com\\n', 'kareem 01005248745 hourgamal@gmail.com\\n', 'may 01165031918 marwaHa@gmail.com\\n', '\\n']\n"
     ]
    }
   ],
   "source": [
    "print(lines)"
   ]
  },
  {
   "cell_type": "code",
   "execution_count": 30,
   "id": "9f540a0f",
   "metadata": {
    "scrolled": true
   },
   "outputs": [
    {
     "name": "stdout",
     "output_type": "stream",
     "text": [
      "biba  01065031918  habibagamal@gmail.com\n",
      "hour 01005248745 hourgamal@gmail.com\n",
      "marwa 01165031918 marwaHa@gmail.com\n",
      "haibaa  01065031918  habibagamal@gmail.com\n",
      "nour 01005248745 hourgamal@gmail.com\n",
      "ahmed 01165031918 marwaHa@gmail.com\n",
      "mhmoud  01065031918  habibagamal@gmail.com\n",
      "kareem 01005248745 hourgamal@gmail.com\n",
      "may 01165031918 marwaHa@gmail.com\n"
     ]
    }
   ],
   "source": [
    "for line in lines:\n",
    "    line=line.strip()\n",
    "    if re.search(\"01\\d\\d\\d\\d\\d\\d\\d\\d\\d\",line):\n",
    "        print(line)"
   ]
  },
  {
   "cell_type": "code",
   "execution_count": 41,
   "id": "2a369f77",
   "metadata": {},
   "outputs": [
    {
     "name": "stdout",
     "output_type": "stream",
     "text": [
      "[['01065031918'], ['01005248745'], ['01165031918'], ['01065031918'], ['01005248745'], ['01165031918'], ['01065031918'], ['01005248745'], ['01165031918'], [], ['01065031918']]\n",
      "[['01065031918'], ['01005248745'], ['01165031918'], ['01065031918'], ['01005248745'], ['01165031918'], ['01065031918'], ['01005248745'], ['01165031918'], [], ['01065031918'], ['01005248745']]\n",
      "[['01065031918'], ['01005248745'], ['01165031918'], ['01065031918'], ['01005248745'], ['01165031918'], ['01065031918'], ['01005248745'], ['01165031918'], [], ['01065031918'], ['01005248745'], ['01165031918']]\n",
      "[['01065031918'], ['01005248745'], ['01165031918'], ['01065031918'], ['01005248745'], ['01165031918'], ['01065031918'], ['01005248745'], ['01165031918'], [], ['01065031918'], ['01005248745'], ['01165031918'], ['01065031918']]\n",
      "[['01065031918'], ['01005248745'], ['01165031918'], ['01065031918'], ['01005248745'], ['01165031918'], ['01065031918'], ['01005248745'], ['01165031918'], [], ['01065031918'], ['01005248745'], ['01165031918'], ['01065031918'], ['01005248745']]\n",
      "[['01065031918'], ['01005248745'], ['01165031918'], ['01065031918'], ['01005248745'], ['01165031918'], ['01065031918'], ['01005248745'], ['01165031918'], [], ['01065031918'], ['01005248745'], ['01165031918'], ['01065031918'], ['01005248745'], ['01165031918']]\n",
      "[['01065031918'], ['01005248745'], ['01165031918'], ['01065031918'], ['01005248745'], ['01165031918'], ['01065031918'], ['01005248745'], ['01165031918'], [], ['01065031918'], ['01005248745'], ['01165031918'], ['01065031918'], ['01005248745'], ['01165031918'], ['01065031918']]\n",
      "[['01065031918'], ['01005248745'], ['01165031918'], ['01065031918'], ['01005248745'], ['01165031918'], ['01065031918'], ['01005248745'], ['01165031918'], [], ['01065031918'], ['01005248745'], ['01165031918'], ['01065031918'], ['01005248745'], ['01165031918'], ['01065031918'], ['01005248745']]\n",
      "[['01065031918'], ['01005248745'], ['01165031918'], ['01065031918'], ['01005248745'], ['01165031918'], ['01065031918'], ['01005248745'], ['01165031918'], [], ['01065031918'], ['01005248745'], ['01165031918'], ['01065031918'], ['01005248745'], ['01165031918'], ['01065031918'], ['01005248745'], ['01165031918']]\n",
      "[['01065031918'], ['01005248745'], ['01165031918'], ['01065031918'], ['01005248745'], ['01165031918'], ['01065031918'], ['01005248745'], ['01165031918'], [], ['01065031918'], ['01005248745'], ['01165031918'], ['01065031918'], ['01005248745'], ['01165031918'], ['01065031918'], ['01005248745'], ['01165031918'], []]\n"
     ]
    }
   ],
   "source": [
    "regex = re.compile(\"01\\d\\d\\d\\d\\d\\d\\d\\d\\d\")\n",
    "for line in lines:\n",
    "    line=line.strip()\n",
    "    matchnumber = re.findall(regex, line)\n",
    "    number.append(matchnumber)\n",
    "    print(number)\n"
   ]
  },
  {
   "cell_type": "code",
   "execution_count": 53,
   "id": "8eefa690",
   "metadata": {},
   "outputs": [
    {
     "name": "stdout",
     "output_type": "stream",
     "text": [
      "[['habibagamal@gmail.com'], ['hourgamal@gmail.com'], ['a@gmail.com'], ['habibagamal@gmail.com'], ['hourgamal@gmail.com'], ['a@gmail.com'], ['habibagamal@gmail.com'], ['hourgamal@gmail.com'], ['a@gmail.com'], [], ['habibagamal@gmail.com']]\n",
      "[['habibagamal@gmail.com'], ['hourgamal@gmail.com'], ['a@gmail.com'], ['habibagamal@gmail.com'], ['hourgamal@gmail.com'], ['a@gmail.com'], ['habibagamal@gmail.com'], ['hourgamal@gmail.com'], ['a@gmail.com'], [], ['habibagamal@gmail.com'], ['hourgamal@gmail.com']]\n",
      "[['habibagamal@gmail.com'], ['hourgamal@gmail.com'], ['a@gmail.com'], ['habibagamal@gmail.com'], ['hourgamal@gmail.com'], ['a@gmail.com'], ['habibagamal@gmail.com'], ['hourgamal@gmail.com'], ['a@gmail.com'], [], ['habibagamal@gmail.com'], ['hourgamal@gmail.com'], ['a@gmail.com']]\n",
      "[['habibagamal@gmail.com'], ['hourgamal@gmail.com'], ['a@gmail.com'], ['habibagamal@gmail.com'], ['hourgamal@gmail.com'], ['a@gmail.com'], ['habibagamal@gmail.com'], ['hourgamal@gmail.com'], ['a@gmail.com'], [], ['habibagamal@gmail.com'], ['hourgamal@gmail.com'], ['a@gmail.com'], ['habibagamal@gmail.com']]\n",
      "[['habibagamal@gmail.com'], ['hourgamal@gmail.com'], ['a@gmail.com'], ['habibagamal@gmail.com'], ['hourgamal@gmail.com'], ['a@gmail.com'], ['habibagamal@gmail.com'], ['hourgamal@gmail.com'], ['a@gmail.com'], [], ['habibagamal@gmail.com'], ['hourgamal@gmail.com'], ['a@gmail.com'], ['habibagamal@gmail.com'], ['hourgamal@gmail.com']]\n",
      "[['habibagamal@gmail.com'], ['hourgamal@gmail.com'], ['a@gmail.com'], ['habibagamal@gmail.com'], ['hourgamal@gmail.com'], ['a@gmail.com'], ['habibagamal@gmail.com'], ['hourgamal@gmail.com'], ['a@gmail.com'], [], ['habibagamal@gmail.com'], ['hourgamal@gmail.com'], ['a@gmail.com'], ['habibagamal@gmail.com'], ['hourgamal@gmail.com'], ['a@gmail.com']]\n",
      "[['habibagamal@gmail.com'], ['hourgamal@gmail.com'], ['a@gmail.com'], ['habibagamal@gmail.com'], ['hourgamal@gmail.com'], ['a@gmail.com'], ['habibagamal@gmail.com'], ['hourgamal@gmail.com'], ['a@gmail.com'], [], ['habibagamal@gmail.com'], ['hourgamal@gmail.com'], ['a@gmail.com'], ['habibagamal@gmail.com'], ['hourgamal@gmail.com'], ['a@gmail.com'], ['habibagamal@gmail.com']]\n",
      "[['habibagamal@gmail.com'], ['hourgamal@gmail.com'], ['a@gmail.com'], ['habibagamal@gmail.com'], ['hourgamal@gmail.com'], ['a@gmail.com'], ['habibagamal@gmail.com'], ['hourgamal@gmail.com'], ['a@gmail.com'], [], ['habibagamal@gmail.com'], ['hourgamal@gmail.com'], ['a@gmail.com'], ['habibagamal@gmail.com'], ['hourgamal@gmail.com'], ['a@gmail.com'], ['habibagamal@gmail.com'], ['hourgamal@gmail.com']]\n",
      "[['habibagamal@gmail.com'], ['hourgamal@gmail.com'], ['a@gmail.com'], ['habibagamal@gmail.com'], ['hourgamal@gmail.com'], ['a@gmail.com'], ['habibagamal@gmail.com'], ['hourgamal@gmail.com'], ['a@gmail.com'], [], ['habibagamal@gmail.com'], ['hourgamal@gmail.com'], ['a@gmail.com'], ['habibagamal@gmail.com'], ['hourgamal@gmail.com'], ['a@gmail.com'], ['habibagamal@gmail.com'], ['hourgamal@gmail.com'], ['a@gmail.com']]\n",
      "[['habibagamal@gmail.com'], ['hourgamal@gmail.com'], ['a@gmail.com'], ['habibagamal@gmail.com'], ['hourgamal@gmail.com'], ['a@gmail.com'], ['habibagamal@gmail.com'], ['hourgamal@gmail.com'], ['a@gmail.com'], [], ['habibagamal@gmail.com'], ['hourgamal@gmail.com'], ['a@gmail.com'], ['habibagamal@gmail.com'], ['hourgamal@gmail.com'], ['a@gmail.com'], ['habibagamal@gmail.com'], ['hourgamal@gmail.com'], ['a@gmail.com'], []]\n"
     ]
    }
   ],
   "source": [
    "regex = re.compile(\"[a-z]*@[A-Za-z]*.com\")\n",
    "for line in lines:\n",
    "    line=line.strip()\n",
    "    matchgmail = re.findall(regex, line)\n",
    "    email.append(matchgmail)\n",
    "    print(email)"
   ]
  },
  {
   "cell_type": "code",
   "execution_count": 57,
   "id": "a3ad138c",
   "metadata": {
    "scrolled": false
   },
   "outputs": [
    {
     "name": "stdout",
     "output_type": "stream",
     "text": [
      "['biba', '', '', '', '', '', '', '', '', '', '', '', '', '', '', '', 'habibagamal', '', 'gmail', '', 'com', '']\n",
      "['hour', '', '', '', '', '', '', '', '', '', '', '', '', '', 'hourgamal', '', 'gmail', '', 'com', '']\n",
      "['marwa', '', '', '', '', '', '', '', '', '', '', '', '', '', 'marwaHa', '', 'gmail', '', 'com', '']\n",
      "['haibaa', '', '', '', '', '', '', '', '', '', '', '', '', '', '', '', 'habibagamal', '', 'gmail', '', 'com', '']\n",
      "['nour', '', '', '', '', '', '', '', '', '', '', '', '', '', 'hourgamal', '', 'gmail', '', 'com', '']\n",
      "['ahmed', '', '', '', '', '', '', '', '', '', '', '', '', '', 'marwaHa', '', 'gmail', '', 'com', '']\n",
      "['mhmoud', '', '', '', '', '', '', '', '', '', '', '', '', '', '', '', 'habibagamal', '', 'gmail', '', 'com', '']\n",
      "['kareem', '', '', '', '', '', '', '', '', '', '', '', '', '', 'hourgamal', '', 'gmail', '', 'com', '']\n",
      "['may', '', '', '', '', '', '', '', '', '', '', '', '', '', 'marwaHa', '', 'gmail', '', 'com', '']\n",
      "['']\n"
     ]
    }
   ],
   "source": [
    "regex = re.compile(r\"([A-Za-z]+)*\")\n",
    "for line in lines:\n",
    "    line=line.strip()\n",
    "    matchnames = re.findall(regex, line)\n",
    "    print(matchnames)"
   ]
  },
  {
   "cell_type": "code",
   "execution_count": null,
   "id": "30fb89af",
   "metadata": {},
   "outputs": [],
   "source": []
  }
 ],
 "metadata": {
  "kernelspec": {
   "display_name": "Python 3 (ipykernel)",
   "language": "python",
   "name": "python3"
  },
  "language_info": {
   "codemirror_mode": {
    "name": "ipython",
    "version": 3
   },
   "file_extension": ".py",
   "mimetype": "text/x-python",
   "name": "python",
   "nbconvert_exporter": "python",
   "pygments_lexer": "ipython3",
   "version": "3.9.12"
  }
 },
 "nbformat": 4,
 "nbformat_minor": 5
}
