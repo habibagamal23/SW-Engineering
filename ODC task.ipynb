{
 "cells": [
  {
   "cell_type": "code",
   "execution_count": null,
   "id": "11ef8584",
   "metadata": {},
   "outputs": [],
   "source": [
    " 1- 2 way to make the architecture of the chip processor ?\n"
   ]
  },
  {
   "cell_type": "markdown",
   "id": "ae2417d9",
   "metadata": {},
   "source": [
    "(1) SoC architecture \n",
    "(2) NoC architectures"
   ]
  },
  {
   "cell_type": "code",
   "execution_count": null,
   "id": "6a46f7ab",
   "metadata": {},
   "outputs": [],
   "source": [
    " 2- Difference between Static and Dynamic Memory Allocation ?"
   ]
  },
  {
   "cell_type": "markdown",
   "id": "1af8c644",
   "metadata": {},
   "source": [
    "# Dynamic Memory Allocation\tStatic Memory Allocation\n",
    " \n",
    "   # Time of allocation\n",
    "It allows allocation of memory at execution time (Run-time).\t\n",
    "It allows allocation of memory at compile time (Compile-time).\n",
    "   # Area of memory used for allocation\t\n",
    "It uses heap memory for management and storage.\n",
    "It uses the stack memory for management and storage.\n",
    "   # Memory Size and Memory Reusability\n",
    "Dynamic memory is not fixed and can be reused and changed for different applications.\n",
    "Static memory is fixed and hence cannot be reused for different applications.\n",
    "   # Nature\n",
    "Memory can be allocated or changed at any point in time.\t\n",
    "Allocation of memory is permanent and cannot be changed.\n",
    "   # Application\t\n",
    "This is used in linked lists.\n",
    "This is used in an array.\n",
    "   # Command in C programming language\n",
    "For this type of allocation, there are various commands used like realloc(), malloc(), free(),  and calloc(), all of them under the stdlib.h header file.\n",
    "Static memory allocation can be carried out by stat() command.\n",
    "   # Ability to increase the memory\t\n",
    "It allows increase in memory size during program execution.\n",
    "It does not allow an increase in memory during execution of the program.\n",
    "   # The time period for allocation\t\n",
    "Memory can be allocated at any point of time during the program.\t\n",
    "Memory is allocated from the beginning to the end of the program.\n",
    "   # Time of program execution\n",
    "  Execution is slower.\t\n",
    "  Execution is faster and saves running time\n",
    "   # The efficiency of the allocation scheme\n",
    "A dynamic memory allocation scheme is more efficient than a Static Memory Allocation scheme. \t\n",
    "Static Memory Allocation Scheme is less efficient.\n",
    "  # Implementation of program\t\n",
    " This process is complicated or complex for dynamic allocation.\t\n",
    " This process is simple for static allocation.\n"
   ]
  },
  {
   "cell_type": "code",
   "execution_count": null,
   "id": "44757cd8",
   "metadata": {},
   "outputs": [],
   "source": [
    "3-What is the disadvantage of dynamic memory allocation?"
   ]
  },
  {
   "cell_type": "markdown",
   "id": "349301c8",
   "metadata": {},
   "source": [
    "disadvantages of Dynamic memory allocation time. Memory needs to be freed by the user when done.\n",
    "This is important as it is more likely to turn into bugs that are difficult to find."
   ]
  },
  {
   "cell_type": "code",
   "execution_count": null,
   "id": "daff71e6",
   "metadata": {},
   "outputs": [],
   "source": [
    "4- Frameworks and Libraries for AI c++ ?"
   ]
  },
  {
   "cell_type": "markdown",
   "id": "9d95d55e",
   "metadata": {},
   "source": [
    "\n",
    "1. TensorFlow C++ or Python. \n",
    "2. Microsoft CNTK C++. \n",
    "3. Caffe C++ \n",
    "4.MLPack C++\n",
    "5. DyNet\n",
    "6. Shogun\n",
    "7. FANN\n",
    "8. OpenNN "
   ]
  },
  {
   "cell_type": "code",
   "execution_count": null,
   "id": "a9fdc5ed",
   "metadata": {},
   "outputs": [],
   "source": [
    "5- Uml SAVA me\n",
    "https://lucid.app/lucidchart/fd82efc6-6827-4c54-8c05-13ed8751b0ab/edit?viewport_loc=7%2C58%2C1707%2C821%2C0Q~PYZz-EDFh&invitationId=inv_219166af-368d-45a1-8c90-4a7c230e5cd4#"
   ]
  },
  {
   "cell_type": "code",
   "execution_count": null,
   "id": "dba7dba4",
   "metadata": {},
   "outputs": [],
   "source": [
    "6- What Does Pooling ?"
   ]
  },
  {
   "cell_type": "markdown",
   "id": "91879445",
   "metadata": {},
   "source": [
    "Pooling is a system in which a large number of people purchase insurance as a group in order to lessen the cost of coverage. "
   ]
  },
  {
   "cell_type": "code",
   "execution_count": null,
   "id": "b22b3501",
   "metadata": {},
   "outputs": [],
   "source": [
    "7- Depth First Search (DFS) ?"
   ]
  },
  {
   "cell_type": "markdown",
   "id": "42194324",
   "metadata": {},
   "source": [
    "Depth-first search (DFS) is yet another technique used to traverse a tree or a graph\n",
    "DFS starts with a root node or a start node and then explores the adjacent nodes of \n",
    "the current node by going deeper into the graph or a tree. \n",
    "This means that in DFS the nodes are explored depth-wise until a node with no children is encountered."
   ]
  },
  {
   "cell_type": "code",
   "execution_count": null,
   "id": "8d7d2592",
   "metadata": {},
   "outputs": [],
   "source": [
    " 9- BFS Vs DFS ?\n",
    " "
   ]
  },
  {
   "cell_type": "markdown",
   "id": "133619d9",
   "metadata": {},
   "source": [
    "# BFS \t DFS\n",
    "Stands for “Breadth-first search”                     ===>       \tStands for “Depth-first search”\n",
    "The nodes are explored breadth wise level by level.    ===>  \tThe nodes are explored depth-wise until there are only leaf nodes and then backtracked to explore other unvisited nodes.\n",
    "BFS is performed with the help of queue data structure. ===> \tDFS is performed with the help of stack data structure.\n",
    "Slower in performanc                                    ===> .\tFaster than BFS.\n",
    "Useful in finding the shortest path between two nodes  .===>\tUsed mostly to detect cycles in g"
   ]
  },
  {
   "cell_type": "code",
   "execution_count": null,
   "id": "00b20bac",
   "metadata": {},
   "outputs": [],
   "source": []
  },
  {
   "cell_type": "code",
   "execution_count": null,
   "id": "e83bbe31",
   "metadata": {},
   "outputs": [],
   "source": []
  },
  {
   "cell_type": "code",
   "execution_count": null,
   "id": "2286daa0",
   "metadata": {},
   "outputs": [],
   "source": []
  },
  {
   "cell_type": "code",
   "execution_count": null,
   "id": "41d908f3",
   "metadata": {},
   "outputs": [],
   "source": []
  },
  {
   "cell_type": "code",
   "execution_count": null,
   "id": "e4fce685",
   "metadata": {},
   "outputs": [],
   "source": []
  },
  {
   "cell_type": "code",
   "execution_count": null,
   "id": "220d02ce",
   "metadata": {},
   "outputs": [],
   "source": []
  },
  {
   "cell_type": "code",
   "execution_count": null,
   "id": "34291435",
   "metadata": {},
   "outputs": [],
   "source": []
  },
  {
   "cell_type": "code",
   "execution_count": null,
   "id": "93a7434b",
   "metadata": {},
   "outputs": [],
   "source": []
  },
  {
   "cell_type": "code",
   "execution_count": null,
   "id": "417859e6",
   "metadata": {},
   "outputs": [],
   "source": []
  },
  {
   "cell_type": "code",
   "execution_count": null,
   "id": "cb54e619",
   "metadata": {},
   "outputs": [],
   "source": []
  },
  {
   "cell_type": "code",
   "execution_count": null,
   "id": "779f20ad",
   "metadata": {},
   "outputs": [],
   "source": []
  },
  {
   "cell_type": "code",
   "execution_count": null,
   "id": "432ef080",
   "metadata": {},
   "outputs": [],
   "source": []
  },
  {
   "cell_type": "code",
   "execution_count": null,
   "id": "5dc62c55",
   "metadata": {},
   "outputs": [],
   "source": []
  },
  {
   "cell_type": "code",
   "execution_count": null,
   "id": "ab0515cc",
   "metadata": {},
   "outputs": [],
   "source": []
  }
 ],
 "metadata": {
  "kernelspec": {
   "display_name": "Python 3 (ipykernel)",
   "language": "python",
   "name": "python3"
  },
  "language_info": {
   "codemirror_mode": {
    "name": "ipython",
    "version": 3
   },
   "file_extension": ".py",
   "mimetype": "text/x-python",
   "name": "python",
   "nbconvert_exporter": "python",
   "pygments_lexer": "ipython3",
   "version": "3.9.12"
  }
 },
 "nbformat": 4,
 "nbformat_minor": 5
}
