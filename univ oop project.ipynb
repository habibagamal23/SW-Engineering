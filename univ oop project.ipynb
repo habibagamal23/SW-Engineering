{
 "cells": [
  {
   "cell_type": "code",
   "execution_count": 23,
   "id": "779696bd",
   "metadata": {},
   "outputs": [],
   "source": [
    "class Person:\n",
    "    def __init__(self):\n",
    "        print('Inhrent Person class')\n",
    "        "
   ]
  },
  {
   "cell_type": "code",
   "execution_count": 26,
   "id": "83027e13",
   "metadata": {},
   "outputs": [],
   "source": [
    "class Student(Person):\n",
    "    student_count=0\n",
    "\n",
    "    def __init__(self,name ,id, mobile,college_id,email, password ,username):\n",
    "        super().__init__()\n",
    "        print('Inside student class')\n",
    "        self.name = name\n",
    "        self.id = id\n",
    "        self.mobile = mobile\n",
    "        self.email = email\n",
    "        self.password = password\n",
    "        self.username = username\n",
    "        Student.student_count+=1\n",
    "\n",
    "    def printStudentData(self):\n",
    "        print (\"Name : \", self.name, \", Id : \", self.id, \" ,mobile : \", self.mobile, \", email : \", self.email)\n",
    "    def printprivetData(self, password):\n",
    "        if self.password == password:\n",
    "            print (\"UserName : \", self.username, \", password: \", self.password )\n",
    "        else : print(\"wrong password\") "
   ]
  },
  {
   "cell_type": "code",
   "execution_count": 27,
   "id": "05fa847d",
   "metadata": {},
   "outputs": [
    {
     "name": "stdout",
     "output_type": "stream",
     "text": [
      "Inside Person class\n",
      "Inside student class\n",
      "Total Student :  1\n",
      "Name :  Milan , Id :  101  ,mobile :  011257685 , email :  mai@.com\n",
      "wrong password\n"
     ]
    }
   ],
   "source": [
    "\n",
    "\n",
    "std1=Student(\"Milan\",101,\"011257685\",2,\"mai@.com\", 123,\"milanuar\")\n",
    "\n",
    "\n",
    "print(\"Total Student : \",Student.student_count)\n",
    "std1.printStudentData()\n",
    "std1.printprivetData(132)\n",
    "\n"
   ]
  },
  {
   "cell_type": "code",
   "execution_count": 61,
   "id": "6f8b1080",
   "metadata": {},
   "outputs": [],
   "source": [
    "class College:\n",
    "    College_countt=0\n",
    "    name_college_list=[]\n",
    "    \n",
    "\n",
    "    def __init__(self,name_college,id_college):\n",
    "        print(\"collage\")\n",
    "        self.name_college=name_college\n",
    "        self.id_college=id_college\n",
    "        College.College_countt+=1\n",
    "        College.name_college_list.insert(self.id_college, self.name_college)\n",
    "       \n",
    "\n",
    "    def inputNewData(self,name_college, id_college):\n",
    "        print (\" added your college done  : \",self.name_college, \" Id   of your college: \", self.id_college)\n",
    "        \n",
    "    def infALLNameCollege(self):\n",
    "         print(self.name_college)\n",
    "    \n",
    "    def searchaboutCollage(self, college):\n",
    "        for x in self.name_college: \n",
    "            if  x == self.college:\n",
    "                print (\"yes it here\")\n",
    "            else : print(\"not here\") \n"
   ]
  },
  {
   "cell_type": "code",
   "execution_count": 58,
   "id": "e07940b7",
   "metadata": {
    "scrolled": true
   },
   "outputs": [
    {
     "name": "stdout",
     "output_type": "stream",
     "text": [
      "collage\n"
     ]
    }
   ],
   "source": [
    "s=College(\"cs\", 1)\n"
   ]
  },
  {
   "cell_type": "code",
   "execution_count": 59,
   "id": "b2c2eb33",
   "metadata": {
    "scrolled": true
   },
   "outputs": [
    {
     "name": "stdout",
     "output_type": "stream",
     "text": [
      "collage\n",
      "collage\n",
      "Total college :  1\n"
     ]
    }
   ],
   "source": [
    "s2=College(\"ios\", 2)\n",
    "s3=College(\"it\", 3)\n",
    "print(\"Total college : \",Student.student_count)"
   ]
  },
  {
   "cell_type": "markdown",
   "id": "be102ef8",
   "metadata": {},
   "source": [
    "Class with  inhrent & multi"
   ]
  },
  {
   "cell_type": "code",
   "execution_count": 62,
   "id": "43b86e82",
   "metadata": {},
   "outputs": [
    {
     "name": "stdout",
     "output_type": "stream",
     "text": [
      "it\n",
      "not here\n",
      "not here\n"
     ]
    }
   ],
   "source": [
    "s3.infALLNameCollege()\n",
    "s3.searchaboutCollage(\"it\")"
   ]
  },
  {
   "cell_type": "code",
   "execution_count": 20,
   "id": "c29b623d",
   "metadata": {},
   "outputs": [],
   "source": [
    "class Base:\n",
    "    def __init__ (self):\n",
    "        print(\"Base\")\n",
    "    def fun(self):\n",
    "        print(\"base\")"
   ]
  },
  {
   "cell_type": "code",
   "execution_count": 21,
   "id": "5106e15d",
   "metadata": {},
   "outputs": [],
   "source": [
    "\n",
    "class b2(Base):\n",
    "    def __init__ (self):\n",
    "        print(\"b2\")\n",
    "    def func(self):\n",
    "        print(\"b2\")\n"
   ]
  },
  {
   "cell_type": "markdown",
   "id": "0ffff140",
   "metadata": {},
   "source": [
    "over Ride "
   ]
  },
  {
   "cell_type": "markdown",
   "id": "f136181c",
   "metadata": {},
   "source": [
    "encaps"
   ]
  }
 ],
 "metadata": {
  "kernelspec": {
   "display_name": "Python 3 (ipykernel)",
   "language": "python",
   "name": "python3"
  },
  "language_info": {
   "codemirror_mode": {
    "name": "ipython",
    "version": 3
   },
   "file_extension": ".py",
   "mimetype": "text/x-python",
   "name": "python",
   "nbconvert_exporter": "python",
   "pygments_lexer": "ipython3",
   "version": "3.9.12"
  }
 },
 "nbformat": 4,
 "nbformat_minor": 5
}
