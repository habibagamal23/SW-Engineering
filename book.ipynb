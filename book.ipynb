{
 "cells": [
  {
   "cell_type": "code",
   "execution_count": 7,
   "id": "78a1541a",
   "metadata": {},
   "outputs": [
    {
     "name": "stdout",
     "output_type": "stream",
     "text": [
      "your name : habiba\n",
      "Author : elm\n",
      "Year : 2000\n"
     ]
    }
   ],
   "source": [
    "class Book:\n",
    "    def putData(self):\n",
    "        self.name=input(\"your name : \")\n",
    "        self.author=input(\"Author : \")\n",
    "        self.year=int(input(\"Year : \" ))\n",
    "    def getData(self):\n",
    "        print(self.name)\n",
    "        print(self.author)\n",
    "        print(self.year)\n",
    "\n",
    "S=Book()\n",
    "S.putData()\n",
    "\n",
    "    "
   ]
  },
  {
   "cell_type": "code",
   "execution_count": 8,
   "id": "7759b2a7",
   "metadata": {},
   "outputs": [
    {
     "name": "stdout",
     "output_type": "stream",
     "text": [
      "habiba\n",
      "elm\n",
      "2000\n"
     ]
    }
   ],
   "source": [
    "S.getData()"
   ]
  },
  {
   "cell_type": "code",
   "execution_count": null,
   "id": "302e0f7c",
   "metadata": {},
   "outputs": [],
   "source": []
  }
 ],
 "metadata": {
  "kernelspec": {
   "display_name": "Python 3 (ipykernel)",
   "language": "python",
   "name": "python3"
  },
  "language_info": {
   "codemirror_mode": {
    "name": "ipython",
    "version": 3
   },
   "file_extension": ".py",
   "mimetype": "text/x-python",
   "name": "python",
   "nbconvert_exporter": "python",
   "pygments_lexer": "ipython3",
   "version": "3.9.12"
  }
 },
 "nbformat": 4,
 "nbformat_minor": 5
}
