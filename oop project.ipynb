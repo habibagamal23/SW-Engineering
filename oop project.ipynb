{
 "cells": [
  {
   "cell_type": "markdown",
   "id": "13a88e2e",
   "metadata": {},
   "source": [
    "Class constructor"
   ]
  },
  {
   "cell_type": "code",
   "execution_count": 10,
   "id": "05fa847d",
   "metadata": {},
   "outputs": [],
   "source": [
    "class Student:\n",
    "    def __init__ (self):\n",
    "        print(\"student\")\n",
    "  \n",
    "\n"
   ]
  },
  {
   "cell_type": "code",
   "execution_count": 11,
   "id": "6f8b1080",
   "metadata": {},
   "outputs": [],
   "source": [
    "class RegularStudent(Student):\n",
    "    def __init__ (self):\n",
    "        print(\"regular student\")\n"
   ]
  },
  {
   "cell_type": "code",
   "execution_count": 12,
   "id": "e07940b7",
   "metadata": {
    "scrolled": true
   },
   "outputs": [
    {
     "name": "stdout",
     "output_type": "stream",
     "text": [
      "student\n"
     ]
    }
   ],
   "source": [
    "s= Student()"
   ]
  },
  {
   "cell_type": "code",
   "execution_count": 13,
   "id": "b2c2eb33",
   "metadata": {},
   "outputs": [
    {
     "name": "stdout",
     "output_type": "stream",
     "text": [
      "regular student\n"
     ]
    }
   ],
   "source": [
    "r= RegularStudent()"
   ]
  },
  {
   "cell_type": "markdown",
   "id": "be102ef8",
   "metadata": {},
   "source": [
    "Class with  inhrent & multi"
   ]
  },
  {
   "cell_type": "code",
   "execution_count": 20,
   "id": "c29b623d",
   "metadata": {},
   "outputs": [],
   "source": [
    "class Base:\n",
    "    def __init__ (self):\n",
    "        print(\"Base\")\n",
    "    def fun(self):\n",
    "        print(\"base\")"
   ]
  },
  {
   "cell_type": "code",
   "execution_count": 21,
   "id": "5106e15d",
   "metadata": {},
   "outputs": [],
   "source": [
    "\n",
    "class b2(Base):\n",
    "    def __init__ (self):\n",
    "        print(\"b2\")\n",
    "    def func(self):\n",
    "        print(\"b2\")\n"
   ]
  },
  {
   "cell_type": "code",
   "execution_count": 22,
   "id": "4d1420bf",
   "metadata": {},
   "outputs": [
    {
     "name": "stdout",
     "output_type": "stream",
     "text": [
      "b2\n",
      "base\n"
     ]
    }
   ],
   "source": [
    "c= b2()\n",
    "c.fun()"
   ]
  },
  {
   "cell_type": "code",
   "execution_count": 23,
   "id": "c3a9059f",
   "metadata": {
    "scrolled": true
   },
   "outputs": [
    {
     "name": "stdout",
     "output_type": "stream",
     "text": [
      "b2\n"
     ]
    }
   ],
   "source": [
    "c.func()"
   ]
  },
  {
   "cell_type": "code",
   "execution_count": 28,
   "id": "6776c678",
   "metadata": {},
   "outputs": [],
   "source": [
    "class Calld():\n",
    "    def __init__ (self):\n",
    "        print(\"drive\")\n",
    "        \n",
    "        "
   ]
  },
  {
   "cell_type": "code",
   "execution_count": 29,
   "id": "815631b1",
   "metadata": {},
   "outputs": [],
   "source": [
    "class Multiinh(Base , Calld):\n",
    "    pass"
   ]
  },
  {
   "cell_type": "code",
   "execution_count": 30,
   "id": "d8071557",
   "metadata": {},
   "outputs": [
    {
     "name": "stdout",
     "output_type": "stream",
     "text": [
      "Base\n"
     ]
    }
   ],
   "source": [
    "m = Multiinh()"
   ]
  },
  {
   "cell_type": "markdown",
   "id": "0ffff140",
   "metadata": {},
   "source": [
    "over Ride "
   ]
  },
  {
   "cell_type": "code",
   "execution_count": 31,
   "id": "39a5987a",
   "metadata": {},
   "outputs": [],
   "source": [
    "class A():\n",
    "    def fun(self):\n",
    "        print(\"from a\")\n",
    "        "
   ]
  },
  {
   "cell_type": "code",
   "execution_count": 33,
   "id": "f0c3eea1",
   "metadata": {},
   "outputs": [],
   "source": [
    "class B(A):\n",
    "    def fun(self):\n",
    "        print(\"from B\")"
   ]
  },
  {
   "cell_type": "code",
   "execution_count": 34,
   "id": "50800eff",
   "metadata": {},
   "outputs": [
    {
     "name": "stdout",
     "output_type": "stream",
     "text": [
      "from B\n"
     ]
    }
   ],
   "source": [
    "l = B()\n",
    "l.fun()"
   ]
  },
  {
   "cell_type": "markdown",
   "id": "f136181c",
   "metadata": {},
   "source": [
    "encaps"
   ]
  },
  {
   "cell_type": "code",
   "execution_count": 50,
   "id": "cc0ef758",
   "metadata": {},
   "outputs": [],
   "source": [
    "class member():\n",
    "    def __init__(self , name,id):\n",
    "        self.name=name\n",
    "        self.__id=id\n",
    "    def getid(self):\n",
    "        print(self.__id)"
   ]
  },
  {
   "cell_type": "code",
   "execution_count": 52,
   "id": "0b2f5397",
   "metadata": {
    "scrolled": false
   },
   "outputs": [
    {
     "name": "stdout",
     "output_type": "stream",
     "text": [
      "hbiba\n"
     ]
    }
   ],
   "source": [
    "mem= member(\"hbiba\" ,12)\n",
    "print(mem.name)\n"
   ]
  },
  {
   "cell_type": "code",
   "execution_count": 53,
   "id": "bf6fc58f",
   "metadata": {},
   "outputs": [],
   "source": [
    "mem.name= \"hour\""
   ]
  },
  {
   "cell_type": "code",
   "execution_count": 54,
   "id": "2a32c141",
   "metadata": {
    "scrolled": true
   },
   "outputs": [
    {
     "name": "stdout",
     "output_type": "stream",
     "text": [
      "12\n"
     ]
    }
   ],
   "source": [
    "mem.getid()"
   ]
  },
  {
   "cell_type": "code",
   "execution_count": null,
   "id": "dfeed186",
   "metadata": {},
   "outputs": [],
   "source": []
  }
 ],
 "metadata": {
  "kernelspec": {
   "display_name": "Python 3 (ipykernel)",
   "language": "python",
   "name": "python3"
  },
  "language_info": {
   "codemirror_mode": {
    "name": "ipython",
    "version": 3
   },
   "file_extension": ".py",
   "mimetype": "text/x-python",
   "name": "python",
   "nbconvert_exporter": "python",
   "pygments_lexer": "ipython3",
   "version": "3.9.12"
  }
 },
 "nbformat": 4,
 "nbformat_minor": 5
}
